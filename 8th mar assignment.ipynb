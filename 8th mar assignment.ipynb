{
 "cells": [
  {
   "cell_type": "markdown",
   "id": "1fd48dfe-24f2-4c2e-8ccd-0a26fab56df2",
   "metadata": {},
   "source": [
    "# Question 01 - What is the Probability density function?"
   ]
  },
  {
   "cell_type": "markdown",
   "id": "df6807fc-3c92-434b-9a47-fdb9e145fba5",
   "metadata": {},
   "source": [
    "# Answer :-\n",
    "\n",
    "The probability density function (PDF) is a mathematical function that describes the likelihood of a continuous random variable taking on a particular value or range of values. The PDF is used to calculate the probability of a continuous random variable falling within a specified range of values, by calculating the area under the curve of the PDF over that range. The total area under the PDF is always equal to 1."
   ]
  },
  {
   "cell_type": "markdown",
   "id": "20bfd9be-2c39-4098-9985-7e92b8c3fe26",
   "metadata": {},
   "source": [
    "## Question 02 - What are the types of Probability distribution?"
   ]
  },
  {
   "cell_type": "markdown",
   "id": "e7037e55-9555-4ea8-9243-2afb24eb2b73",
   "metadata": {},
   "source": [
    "# Answer :-\n",
    "\n",
    "There are several types of probability distributions, including:\n",
    "\n",
    "1. Bernoulli distribution\n",
    "2. Binomial distribution\n",
    "3. Poisson distribution\n",
    "4. Normal distribution\n",
    "5. Exponential distribution\n",
    "6. Gamma distribution\n",
    "7. Beta distribution\n",
    "8. Uniform distribution\n",
    "9. Lognormal distribution\n",
    "10. Chi-Square distribution\n",
    "11. Student's t-distribution\n",
    "12. F-distribution\n",
    "These are some of the most commonly used probability distributions in statistical analysis and modeling."
   ]
  },
  {
   "cell_type": "markdown",
   "id": "8c22893b-1528-47d5-8215-6b007c2f18cb",
   "metadata": {},
   "source": [
    "## Question 03 - Write a Python function to calculate the probability density function of a normal distribution with given mean and standard deviation at a given point."
   ]
  },
  {
   "cell_type": "code",
   "execution_count": 1,
   "id": "57d7c002-4587-40c5-b5db-2e927468b10f",
   "metadata": {},
   "outputs": [],
   "source": [
    "# Answer :-\n",
    "\n",
    "import math\n",
    "\n",
    "def norm_pdf(x, mean, sd):\n",
    "    '''\n",
    "    Calculates the probability density function of a normal distribution with given mean and standard deviation at a given point.\n",
    "    \n",
    "    Parameters:\n",
    "    x (float): The point at which the probability density function is to be calculated.\n",
    "    mean (float): The mean of the normal distribution.\n",
    "    sd (float): The standard deviation of the normal distribution.\n",
    "    \n",
    "    Returns:\n",
    "    pdf (float): The value of the probability density function at the given point.\n",
    "    '''\n",
    "    \n",
    "    exponent = math.exp(-((x - mean)**2) / (2 * sd**2))\n",
    "    pdf = (1 / (sd * math.sqrt(2 * math.pi))) * exponent\n",
    "    \n",
    "    return pdf\n"
   ]
  },
  {
   "cell_type": "code",
   "execution_count": 2,
   "id": "9e4e7f45-2d82-4984-a7ae-d9db8621d525",
   "metadata": {},
   "outputs": [
    {
     "name": "stdout",
     "output_type": "stream",
     "text": [
      "PDF at x = 3 is 0.12098536225957168\n"
     ]
    }
   ],
   "source": [
    "mean = 5\n",
    "sd = 2\n",
    "x = 3\n",
    "\n",
    "pdf = norm_pdf(x, mean, sd)\n",
    "print(\"PDF at x = {} is {}\".format(x, pdf))\n"
   ]
  },
  {
   "cell_type": "markdown",
   "id": "ee5fc687-b8d7-4de3-8809-60744c75aa86",
   "metadata": {},
   "source": [
    "## Question 04 - What are the properties of Binomial distribution? Give two examples of events where binomial distribution can be applied."
   ]
  },
  {
   "cell_type": "markdown",
   "id": "80fb08de-40ee-4c7f-a97c-55924f6d3582",
   "metadata": {},
   "source": [
    "# Answer :-\n",
    "\n",
    "Properties of Binomial Distribution:\n",
    "\n",
    "1. The number of trials (n) is fixed.\n",
    "2. Each trial has only two possible outcomes: success (S) and failure (F).\n",
    "3. The probability of success (p) is constant for each trial.\n",
    "4. The trials are independent, meaning the outcome of one trial does not affect the outcome of the next trial.\n",
    "\n",
    "Examples of events where binomial distribution can be applied:\n",
    "\n",
    "1. ossing a coin: If we toss a fair coin multiple times, the probability of getting a head or a tail remains the same for each toss. The number of heads or tails that we get in n tosses follows a binomial distribution.\n",
    "2. Medical trials: In a medical trial, a drug is given to a group of patients to test its efficacy. The number of patients who recover from the disease can be modeled using a binomial distribution, where the probability of success is the probability of a patient recovering from the disease after taking the drug."
   ]
  },
  {
   "cell_type": "markdown",
   "id": "ca295aa3-5c74-40fa-b3e1-89b5f53ceeb2",
   "metadata": {},
   "source": [
    "## Question 05 - Generate a random sample of size 1000 from a binomial distribution with probability of success 0.4 and plot a histogram of the results using matplotlib."
   ]
  },
  {
   "cell_type": "code",
   "execution_count": 4,
   "id": "335e058d-9bad-440c-93a6-93d45110c862",
   "metadata": {},
   "outputs": [
    {
     "data": {
      "image/png": "[encoded data removed]",
      "text/plain": [
       "<Figure size 640x480 with 1 Axes>"
      ]
     },
     "metadata": {},
     "output_type": "display_data"
    }
   ],
   "source": [
    "# Answer :-\n",
    "\n",
    "import numpy as np\n",
    "import matplotlib.pyplot as plt\n",
    "\n",
    "# Set the parameters\n",
    "n = 1000  # Sample size\n",
    "p = 0.4  # Probability of success\n",
    "\n",
    "# Generate the sample\n",
    "sample = np.random.binomial(n, p, size=1000)\n",
    "\n",
    "# Plot the histogram\n",
    "plt.hist(sample, bins=30, density=True)\n",
    "plt.xlabel('Number of successes')\n",
    "plt.ylabel('Probability density')\n",
    "plt.title('Binomial distribution with p=0.4, n=1000')\n",
    "plt.show()\n"
   ]
  },
  {
   "cell_type": "markdown",
   "id": "9c7f5ffa-2b25-46a2-bee9-bdd3e9f26fa1",
   "metadata": {},
   "source": [
    "This code generates a random sample of size 1000 from a binomial distribution with probability of success 0.4 using the np.random.binomial function from the NumPy library. It then plots a histogram of the results using the plt.hist function from the matplotlib library. The histogram shows the distribution of the number of successes in the sample."
   ]
  },
  {
   "cell_type": "markdown",
   "id": "9d48decb-332b-4353-9e57-9540c8983711",
   "metadata": {},
   "source": [
    "## Question 06 - Write a Python function to calculate the cumulative distribution function of a Poisson distribution with given mean at a given point."
   ]
  },
  {
   "cell_type": "code",
   "execution_count": 5,
   "id": "d78c35db-6b47-40ea-94c5-912732fd7afc",
   "metadata": {},
   "outputs": [],
   "source": [
    "# Answer :-\n",
    "\n",
    "from math import exp\n",
    "from scipy.special import gammainc\n",
    "\n",
    "def poisson_cdf(mu, k):\n",
    "    \"\"\"Calculate the cumulative distribution function of a Poisson distribution with given mean mu at a given point k\"\"\"\n",
    "    return gammainc(k + 1, mu)\n"
   ]
  },
  {
   "cell_type": "markdown",
   "id": "37a1bf75-2331-425d-a9dd-54ac8d1d4889",
   "metadata": {},
   "source": [
    "The function uses the gammainc function from the scipy.special library to calculate the regularized incomplete gamma function, which is equivalent to the CDF of the Poisson distribution."
   ]
  },
  {
   "cell_type": "markdown",
   "id": "c04b478e-f855-4676-9923-a2afea9faee7",
   "metadata": {},
   "source": [
    "## Question 07 - How Binomial distribution different from Poisson distribution?"
   ]
  },
  {
   "cell_type": "markdown",
   "id": "fa6d7b2e-81ff-4ad6-b9d2-f3d14de2db08",
   "metadata": {},
   "source": [
    "# Answer :-\n",
    "\n",
    "Binomial and Poisson distributions are both probability distributions that are used to model events that involve a certain number of trials or occurrences. However, there are some key differences between the two distributions:\n",
    "\n",
    "1. Number of trials: In a binomial distribution, the number of trials is fixed and known in advance. In a Poisson distribution, the number of trials is not fixed, and the events occur randomly over time or space.\n",
    "\n",
    "2. Probability of success: In a binomial distribution, the probability of success is constant for each trial. In a Poisson distribution, the probability of success may vary depending on the time or space interval being considered.\n",
    "\n",
    "3. Shape: Binomial distributions are generally symmetric and bell-shaped, while Poisson distributions are skewed to the right.\n",
    "\n",
    "4. Mean and variance: In a binomial distribution, the mean and variance are both calculated as np, where n is the number of trials and p is the probability of success. In a Poisson distribution, the mean is equal to λ, which is the rate at which events occur, and the variance is also equal to λ.\n",
    "\n",
    "5. Applications: Binomial distributions are commonly used to model events that involve a fixed number of trials with a constant probability of success, such as the number of heads in a series of coin flips. Poisson distributions are used to model events that occur randomly over time or space, such as the number of phone calls received by a call center in a given hour."
   ]
  },
  {
   "cell_type": "markdown",
   "id": "c706d564-bfcb-4668-b2be-869a7a1336ae",
   "metadata": {},
   "source": [
    "# Question 08 - Generate a random sample of size 1000 from a Poisson distribution with mean 5 and calculate the sample mean and variance."
   ]
  },
  {
   "cell_type": "code",
   "execution_count": 6,
   "id": "242a7e73-8c2d-4525-88cf-c3d574541d4a",
   "metadata": {},
   "outputs": [
    {
     "name": "stdout",
     "output_type": "stream",
     "text": [
      "Sample mean: 4.919\n",
      "Sample variance: 5.035474474474475\n"
     ]
    }
   ],
   "source": [
    "# Answer :-\n",
    "\n",
    "import numpy as np\n",
    "\n",
    "# Set the seed for reproducibility\n",
    "np.random.seed(123)\n",
    "\n",
    "# Generate a random sample of size 1000 from a Poisson distribution with mean 5\n",
    "sample = np.random.poisson(5, 1000)\n",
    "\n",
    "# Calculate the sample mean and variance\n",
    "sample_mean = np.mean(sample)\n",
    "sample_variance = np.var(sample, ddof=1)\n",
    "\n",
    "print(\"Sample mean:\", sample_mean)\n",
    "print(\"Sample variance:\", sample_variance)\n"
   ]
  },
  {
   "cell_type": "markdown",
   "id": "f761aff1-f144-42b7-8a57-f42ca7cf63d8",
   "metadata": {},
   "source": [
    "# Question 09 - How mean and variance are related in Binomial distribution and Poisson distribution?"
   ]
  },
  {
   "cell_type": "markdown",
   "id": "45b1789d-e57c-4a1f-8f34-c2c9aeeb903f",
   "metadata": {},
   "source": [
    "# Answer :-\n",
    "\n",
    "In a Binomial distribution, the mean and variance are related as:\n",
    "\n",
    "mean = n * p\n",
    "\n",
    "variance = n * p * (1-p)\n",
    "\n",
    "where n is the number of trials and p is the probability of success in each trial.\n",
    "\n",
    "In a Poisson distribution, the mean and variance are related as:\n",
    "\n",
    "mean = variance = λ\n",
    "\n",
    "where λ is the rate parameter."
   ]
  },
  {
   "cell_type": "markdown",
   "id": "7de25439-f0bb-4387-99ff-d01e35f363ae",
   "metadata": {},
   "source": [
    "## Question 10 - In normal distribution with respect to mean position, where does the least frequent data appear?"
   ]
  },
  {
   "cell_type": "markdown",
   "id": "87aae42a-6108-4835-b61a-555a702ef741",
   "metadata": {},
   "source": [
    "# Answer :-\n",
    "\n",
    "In a normal distribution, the least frequent data appears in the tails, which are the regions farthest from the mean."
   ]
  },
  {
   "cell_type": "code",
   "execution_count": null,
   "id": "cc76095f-5079-4292-9be1-aa92f37a3224",
   "metadata": {},
   "outputs": [],
   "source": []
  }
 ],
 "metadata": {
  "kernelspec": {
   "display_name": "Python 3 (ipykernel)",
   "language": "python",
   "name": "python3"
  },
  "language_info": {
   "codemirror_mode": {
    "name": "ipython",
    "version": 3
   },
   "file_extension": ".py",
   "mimetype": "text/x-python",
   "name": "python",
   "nbconvert_exporter": "python",
   "pygments_lexer": "ipython3",
   "version": "3.10.8"
  }
 },
 "nbformat": 4,
 "nbformat_minor": 5
}
